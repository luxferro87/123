{
 "cells": [
  {
   "cell_type": "markdown",
   "id": "34f0816d",
   "metadata": {},
   "source": [
    "# Задание 1 \n",
    "\n"
   ]
  },
  {
   "cell_type": "code",
   "execution_count": null,
   "id": "6b10cda0",
   "metadata": {},
   "outputs": [],
   "source": [
    "# Переведите содержимое файла purchase_log.txt в словарь purchases вида:\n",
    "# {‘1840e0b9d4’: ‘Продукты’, …}"
   ]
  },
  {
   "cell_type": "code",
   "execution_count": null,
   "id": "8fb5b019",
   "metadata": {},
   "outputs": [],
   "source": [
    "import json     "
   ]
  },
  {
   "cell_type": "code",
   "execution_count": null,
   "id": "aa2b9b03",
   "metadata": {},
   "outputs": [],
   "source": [
    "diction = {}\n",
    "\n",
    "with open ('purchase_log.txt', 'r') as a:\n",
    "    for line in a:\n",
    "        b = json.loads(line)\n",
    "        diction[b['user_id']] = b['category']\n",
    "with open ('purchases.txt', 'w') as aw:\n",
    "    aw.write(str(diction))\n"
   ]
  },
  {
   "cell_type": "markdown",
   "id": "f0de312c",
   "metadata": {},
   "source": [
    "# Задание 2\n"
   ]
  },
  {
   "cell_type": "code",
   "execution_count": null,
   "id": "c880515c",
   "metadata": {},
   "outputs": [],
   "source": [
    "# Для каждого user_id в файле visit_log.csv определите третий столбец с категорией покупки \n",
    "# (если покупка была, сам файл visit_log.csv изменять не надо). \n",
    "# Запишите в файл funnel.csv визиты из файла visit_log.csv, в которых были покупки с указанием категории.\n",
    "# Учтите условия на данные:\n",
    "# содержимое purchase_log.txt помещается в оперативную память компьютера\n",
    "# содержимое visit_log.csv - нет; используйте только построчную обработку этого файла"
   ]
  },
  {
   "cell_type": "code",
   "execution_count": null,
   "id": "6ae230c3",
   "metadata": {},
   "outputs": [],
   "source": [
    "import json"
   ]
  },
  {
   "cell_type": "code",
   "execution_count": null,
   "id": "2a4eb823",
   "metadata": {},
   "outputs": [],
   "source": [
    "list_ = []\n",
    "\n",
    "with open('purchase_log.txt') as logs:\n",
    "    for line in logs:\n",
    "        diction = json.loads(line)\n",
    "        list_.append(diction)\n",
    "\n",
    "def funct(product_name):\n",
    "    for i in list_:\n",
    "        if (i['user_id'] == product_name):\n",
    "            return i['category']\n",
    "    return None\n",
    "with open('result.txt', 'w') as result:\n",
    "    with open('visit_log.csv') as vi: \n",
    "        for line1 in vi:\n",
    "            user_id = line1.split(',')[0]\n",
    "            category = funct(user_id)\n",
    "            if category:\n",
    "                output = line.rstrip() + ', ' + str(category) + '\\r'\n",
    "                result.write(output)"
   ]
  }
 ],
 "metadata": {
  "kernelspec": {
   "display_name": "Python 3",
   "language": "python",
   "name": "python3"
  },
  "language_info": {
   "codemirror_mode": {
    "name": "ipython",
    "version": 3
   },
   "file_extension": ".py",
   "mimetype": "text/x-python",
   "name": "python",
   "nbconvert_exporter": "python",
   "pygments_lexer": "ipython3",
   "version": "3.8.8"
  }
 },
 "nbformat": 4,
 "nbformat_minor": 5
}
