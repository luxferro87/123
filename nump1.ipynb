{
 "cells": [
  {
   "cell_type": "markdown",
   "id": "d274231d",
   "metadata": {},
   "source": [
    "# Задача 1\n"
   ]
  },
  {
   "cell_type": "code",
   "execution_count": 24,
   "id": "93fdb7b2",
   "metadata": {},
   "outputs": [],
   "source": [
    "import numpy as np\n"
   ]
  },
  {
   "cell_type": "code",
   "execution_count": 25,
   "id": "916139d1",
   "metadata": {},
   "outputs": [
    {
     "data": {
      "text/plain": [
       "array([10,  9,  8,  7,  6,  5,  4,  3,  2,  1])"
      ]
     },
     "execution_count": 25,
     "metadata": {},
     "output_type": "execute_result"
    }
   ],
   "source": [
    "n = 10\n",
    "np.arange(n,0,-1)"
   ]
  },
  {
   "cell_type": "markdown",
   "id": "85b94dd2",
   "metadata": {},
   "source": [
    "# Задача 2"
   ]
  },
  {
   "cell_type": "code",
   "execution_count": 14,
   "id": "f3d18ee2",
   "metadata": {},
   "outputs": [],
   "source": [
    "# Создайте диагональную матрицу с элементами от N до 0. Посчитайте сумму ее значений на диагонали."
   ]
  },
  {
   "cell_type": "code",
   "execution_count": 27,
   "id": "5aea83d3",
   "metadata": {},
   "outputs": [],
   "source": [
    "ar = np.diag(np.arange(n,0,-1),k=0)\n",
    "\n",
    "i=0\n",
    "\n",
    "for line in ar: \n",
    "    summ += line[i]\n",
    "    i += 1\n",
    "       \n",
    "\n"
   ]
  },
  {
   "cell_type": "markdown",
   "id": "28aa199b",
   "metadata": {},
   "source": [
    "# Задача 3"
   ]
  },
  {
   "cell_type": "code",
   "execution_count": 29,
   "id": "59534e63",
   "metadata": {},
   "outputs": [],
   "source": [
    "# Решите систему уравнений:\n",
    "# 4x + 2y + z = 4\n",
    "# x + 3y = 12\n",
    "# 5y + 4z = -3"
   ]
  },
  {
   "cell_type": "code",
   "execution_count": 30,
   "id": "ea9a18f1",
   "metadata": {},
   "outputs": [],
   "source": [
    "a = np.array([ [4, 2, 1], [1, 3, 0], [5, 4, 0] ])\n",
    "b = np.array([4, 12, -3])"
   ]
  },
  {
   "cell_type": "code",
   "execution_count": 31,
   "id": "62d1c415",
   "metadata": {},
   "outputs": [],
   "source": [
    "from numpy import linalg"
   ]
  },
  {
   "cell_type": "code",
   "execution_count": 32,
   "id": "59f24b3c",
   "metadata": {},
   "outputs": [
    {
     "data": {
      "text/plain": [
       "array([-5.18181818,  5.72727273, 13.27272727])"
      ]
     },
     "execution_count": 32,
     "metadata": {},
     "output_type": "execute_result"
    }
   ],
   "source": [
    "linalg.solve(a,b)"
   ]
  },
  {
   "cell_type": "markdown",
   "id": "92003179",
   "metadata": {},
   "source": [
    "# Задача 4\n"
   ]
  },
  {
   "cell_type": "code",
   "execution_count": 45,
   "id": "e13e316b",
   "metadata": {},
   "outputs": [],
   "source": [
    "users_stats = np.array(\n",
    "    [\n",
    "        [2, 1, 0, 0, 0, 0],\n",
    "        [1, 1, 2, 1, 0, 0],\n",
    "        [2, 0, 1, 0, 0, 0],\n",
    "        [1, 1, 2, 1, 0, 1],\n",
    "        [0, 0, 1, 2, 0, 0],\n",
    "        [0, 0, 0, 0, 0, 5],\n",
    "        [1, 0, 0, 0, 0, 0],\n",
    "        [0, 1, 1, 0, 0, 0],\n",
    "        [0, 0, 0, 1, 1, 3],\n",
    "        [1, 0, 0, 2, 1, 4]\n",
    "    ], \n",
    "    np.int32\n",
    ")"
   ]
  },
  {
   "cell_type": "code",
   "execution_count": 46,
   "id": "fc8de677",
   "metadata": {},
   "outputs": [],
   "source": [
    "next_user_stats = np.array([0, 1, 2, 0, 0, 0])"
   ]
  },
  {
   "cell_type": "code",
   "execution_count": 47,
   "id": "9c48f1f9",
   "metadata": {},
   "outputs": [],
   "source": [
    "def cosine( a,   b = np.array([0, 1, 2, 0, 0, 0])): # b = нашему новому пользователю, а по А мы итерируемся\n",
    "    \"\"\"\n",
    "    Подсчет косинуса угла между векторами a, b по их координатам\n",
    "    \"\"\"\n",
    "    \n",
    "    # длины векторов\n",
    "    aLength = np.linalg.norm( a )\n",
    "    bLength = np.linalg.norm( b )\n",
    "    \n",
    "    return np.dot( a, b ) / ( aLength * bLength )\n"
   ]
  },
  {
   "cell_type": "code",
   "execution_count": 54,
   "id": "9ecb9d40",
   "metadata": {},
   "outputs": [
    {
     "name": "stdout",
     "output_type": "stream",
     "text": [
      "0.9486832980505138\n"
     ]
    }
   ],
   "source": [
    "dict_ = {}\n",
    "for line in range(0, len(users_stats)): #Задаем диапазон по которому итерируемся в массиве, по каждой линии в массиве\n",
    "    dict_[line] = cosine(users_stats[line]) #для каждого вектора в массиве применяем функцию в которую передаем вектор польз. из массива. Где line это ключ словаря, а значение - рассчитывается функцией\n",
    "print(max(dict_.values())) #После того как посчитали cos относительно нового пользователя с теми что в массиве, выводим максимально приближенное значение из словаря\n",
    "    "
   ]
  },
  {
   "cell_type": "code",
   "execution_count": null,
   "id": "3b06a639",
   "metadata": {},
   "outputs": [],
   "source": []
  }
 ],
 "metadata": {
  "kernelspec": {
   "display_name": "Python 3",
   "language": "python",
   "name": "python3"
  },
  "language_info": {
   "codemirror_mode": {
    "name": "ipython",
    "version": 3
   },
   "file_extension": ".py",
   "mimetype": "text/x-python",
   "name": "python",
   "nbconvert_exporter": "python",
   "pygments_lexer": "ipython3",
   "version": "3.8.8"
  }
 },
 "nbformat": 4,
 "nbformat_minor": 5
}
