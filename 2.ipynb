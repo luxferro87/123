{
 "cells": [
  {
   "cell_type": "markdown",
   "id": "aff98102",
   "metadata": {},
   "source": [
    "# 1 задача\n",
    "\n"
   ]
  },
  {
   "cell_type": "code",
   "execution_count": 31,
   "id": "d43c1f9e",
   "metadata": {},
   "outputs": [
    {
     "name": "stdout",
     "output_type": "stream",
     "text": [
      "t\n"
     ]
    }
   ],
   "source": [
    "word = 'testing'\n",
    "if len(word) %2 ==0:\n",
    "    b = int(len(word)/2)\n",
    "    print(word[b-1] + word[b])\n",
    "else:\n",
    "    print(word[b+1])\n",
    "        "
   ]
  },
  {
   "cell_type": "markdown",
   "id": "4e273c23",
   "metadata": {},
   "source": [
    "# 2 Задача"
   ]
  },
  {
   "cell_type": "code",
   "execution_count": 6,
   "id": "5d09a864",
   "metadata": {},
   "outputs": [
    {
     "name": "stdout",
     "output_type": "stream",
     "text": [
      "Введите число 2\n",
      "Введите число 0\n",
      "2\n"
     ]
    }
   ],
   "source": [
    "a = 1\n",
    "c = 0\n",
    "while a !=0:\n",
    "    a = int(input('Введите число '))\n",
    "    c += a\n",
    "print(c)"
   ]
  },
  {
   "cell_type": "markdown",
   "id": "a0f8b30b",
   "metadata": {},
   "source": [
    "# 3 Задача\n"
   ]
  },
  {
   "cell_type": "code",
   "execution_count": 50,
   "id": "473eb22f",
   "metadata": {},
   "outputs": [
    {
     "name": "stdout",
     "output_type": "stream",
     "text": [
      "Идеальные пары:\n",
      "Alex и Emma\n",
      "Arthur и Kate\n",
      "John и Kira\n",
      "Peter и Liza\n",
      "Richard и Trisha\n"
     ]
    }
   ],
   "source": [
    "boys = ['Peter', 'Alex', 'John', 'Arthur', 'Richard']\n",
    "girls = ['Kate', 'Liza', 'Kira', 'Emma', 'Trisha']\n",
    "\n",
    "boy = sorted(boys)\n",
    "girl = sorted(girls)\n",
    "\n",
    "if len(boy) == len(girl):\n",
    "    print('Идеальные пары:')\n",
    "    for i in range(len(boy)):\n",
    "        \n",
    "        print(f\"{boy[i]} и {girl[i]}\")\n",
    "else:\n",
    "    print(\"Внимание, кто-то может остаться без пары!\")"
   ]
  },
  {
   "cell_type": "markdown",
   "id": "6033f544",
   "metadata": {},
   "source": [
    "# Задача 4\n"
   ]
  },
  {
   "cell_type": "code",
   "execution_count": 118,
   "id": "29db2d4f",
   "metadata": {},
   "outputs": [
    {
     "name": "stdout",
     "output_type": "stream",
     "text": [
      "Средняя температура в странах:\n",
      "Thailand - 23.9 C\n",
      "Germany - 13.8 C\n",
      "Russia - 3.7 C\n",
      "Poland - 12.0 C\n"
     ]
    }
   ],
   "source": [
    "countries_temperature = [\n",
    "['Thailand', [75.2, 77, 78.8, 73.4, 68, 75.2, 77]],\n",
    "['Germany', [57.2, 55.4, 59, 59, 53.6]],\n",
    "['Russia', [35.6, 37.4, 39.2, 41, 42.8, 39.2, 35.6]],\n",
    "['Poland', [50, 50, 53.6, 57.2, 55.4, 55.4]]\n",
    "]\n",
    "\n",
    "print('Средняя температура в странах:')\n",
    "for country in countries_temperature:\n",
    "    \n",
    "    cel = [((temp - 32) / 1.8000) for temp in country[1]]\n",
    "    AvgCel = round(sum(cel) / len(country[1]),1)  \n",
    "    print(f\"{country[0]} - {AvgCel} C\")\n"
   ]
  }
 ],
 "metadata": {
  "kernelspec": {
   "display_name": "Python 3",
   "language": "python",
   "name": "python3"
  },
  "language_info": {
   "codemirror_mode": {
    "name": "ipython",
    "version": 3
   },
   "file_extension": ".py",
   "mimetype": "text/x-python",
   "name": "python",
   "nbconvert_exporter": "python",
   "pygments_lexer": "ipython3",
   "version": "3.8.8"
  }
 },
 "nbformat": 4,
 "nbformat_minor": 5
}
