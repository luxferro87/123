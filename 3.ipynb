{
 "cells": [
  {
   "cell_type": "code",
   "execution_count": 2,
   "id": "93f4d6db",
   "metadata": {},
   "outputs": [
    {
     "name": "stdout",
     "output_type": "stream",
     "text": [
      "[213, 15, 54, 119, 98, 35]\n"
     ]
    }
   ],
   "source": [
    "from pprint import pprint\n",
    "\n",
    "# Дана переменная, в которой хранится словарь, содержащий гео-метки для каждого пользователя\n",
    "# (пример структуры данных приведен ниже).\n",
    "# Вам необходимо написать программу, которая выведет на экран множество уникальных гео-меток всех пользователей.\n",
    "\n",
    "\n",
    "ids = {'user1': [213, 213, 213, 15, 213],\n",
    "       'user2': [54, 54, 119, 119, 119],\n",
    "       'user3': [213, 98, 98, 35]\n",
    "       }\n",
    "\n",
    "# Результат: {98, 35, 15, 213, 54, 119}\n",
    "\n",
    "# Cпособ № 1\n",
    "unique_list = []\n",
    "for items in ids.values():\n",
    "    for num in items:\n",
    "        if num not in unique_list:\n",
    "            unique_list.append(num)\n",
    "print(unique_list)\n",
    "\n"
   ]
  },
  {
   "cell_type": "code",
   "execution_count": 3,
   "id": "08697c61",
   "metadata": {},
   "outputs": [
    {
     "name": "stdout",
     "output_type": "stream",
     "text": [
      "Результат: {98, 35, 15, 213, 54, 119}\n"
     ]
    }
   ],
   "source": [
    "# Способ № 2\n",
    "\n",
    "print(f'Результат: {set([mark for row in ids.values() for mark in row])}')"
   ]
  },
  {
   "cell_type": "code",
   "execution_count": 4,
   "id": "51276815",
   "metadata": {},
   "outputs": [
    {
     "name": "stdout",
     "output_type": "stream",
     "text": [
      "Результат: 98 35 15 213 54 119\n"
     ]
    }
   ],
   "source": [
    "# Способ № 3\n",
    "print('Результат:', ' '.join(map(str, set([v for row in ids.values() for v in row]))))"
   ]
  },
  {
   "cell_type": "code",
   "execution_count": null,
   "id": "86c10a11",
   "metadata": {},
   "outputs": [],
   "source": []
  },
  {
   "cell_type": "code",
   "execution_count": 6,
   "id": "22d3e814",
   "metadata": {},
   "outputs": [
    {
     "name": "stdout",
     "output_type": "stream",
     "text": [
      "Поисковых запросов, содержащих 3 слов(а) 57.14%\n",
      "Поисковых запросов, содержащих 2 слов(а) 42.86%\n"
     ]
    }
   ],
   "source": [
    "# Дана переменная, в которой хранится список поисковых запросов пользователя\n",
    "# (пример структуры данных приведен ниже). Вам необходимо написать программу,\n",
    "# которая выведет на экран распределение количества слов в запросах в требуемом виде\n",
    "# Поисковых запросов, содержащих 2 слов(а): 42.86%\n",
    "# Поисковых запросов, содержащих 3 слов(а): 57.14%\n",
    "\n",
    "queries = [\n",
    "    'смотреть сериалы онлайн',\n",
    "    'новости спорта',\n",
    "    'афиша кино',\n",
    "    'курс доллара',\n",
    "    'сериалы этим летом',\n",
    "    'курс по питону',\n",
    "    'сериалы про спорт',\n",
    "]\n",
    "\n",
    "query_dict = {}\n",
    "\n",
    "for query in queries:\n",
    "    words = query.split()\n",
    "    len_words = len(words)\n",
    "\n",
    "    if len_words not in query_dict.keys():\n",
    "        query_dict.setdefault(len_words, 1)\n",
    "    else:\n",
    "        query_dict[len_words] += 1\n",
    "\n",
    "total_queries = sum(query_dict.values())\n",
    "\n",
    "for words, counter in query_dict.items():\n",
    "    print(f'Поисковых запросов, содержащих {words} слов(а) {counter / total_queries :.2%}')\n"
   ]
  },
  {
   "cell_type": "code",
   "execution_count": 8,
   "id": "d69b49db",
   "metadata": {},
   "outputs": [
    {
     "name": "stdout",
     "output_type": "stream",
     "text": [
      "[{'ROI': 16.99, 'cost': 153, 'revenue': 179},\n",
      " {'ROI': 5.1, 'cost': 98, 'revenue': 103},\n",
      " {'ROI': 2.94, 'cost': 34, 'revenue': 35},\n",
      " {'ROI': -6.36, 'cost': 110, 'revenue': 103},\n",
      " {'ROI': -54.17, 'cost': 24, 'revenue': 11}]\n"
     ]
    }
   ],
   "source": [
    "\n",
    "# Дана переменная, в которой хранится информация о затратах и доходе рекламных кампаний по различным\n",
    "# источникам. Необходимо дополнить исходную структуру показателем ROI, который рассчитаем по формуле:\n",
    "# (revenue / cost - 1) * 100\n",
    "\n",
    "\n",
    "results = {\n",
    "    'vk': {'revenue': 103, 'cost': 98},\n",
    "    'yandex': {'revenue': 179, 'cost': 153},\n",
    "    'facebook': {'revenue': 103, 'cost': 110},\n",
    "    'adwords': {'revenue': 35, 'cost': 34},\n",
    "    'twitter': {'revenue': 11, 'cost': 24},\n",
    "}\n",
    "\n",
    "for finances in results.values():  # results.items() - избыточно.\n",
    "    finances['ROI'] = round((finances['revenue'] / finances['cost'] - 1) * 100, 2)\n",
    "\n",
    "# Отсортировал по убыванию ROI\n",
    "pprint(sorted(results.values(), key=lambda x: -x['ROI']))\n",
    "# Если используем results.items() - тогда возвращается список следующего вида:\n",
    "# [('yandex', {'ROI': 16.99, 'cost': 153, 'revenue': 179})\n",
    "# В такой реализации необходимо сортировку записать -x[1]['ROI']; -1 можно заменить на reverse = True\n",
    "\n"
   ]
  },
  {
   "cell_type": "code",
   "execution_count": 11,
   "id": "937c1080",
   "metadata": {},
   "outputs": [
    {
     "name": "stdout",
     "output_type": "stream",
     "text": [
      "Максимальный объем продаж на рекламном канале: vk\n"
     ]
    }
   ],
   "source": [
    "4# Задача 4\n",
    "# Дана переменная, в которой хранится статистика рекламных каналов по объемам продаж\n",
    "# (пример структуры данных приведен ниже). Напишите программу, которая возвращает название\n",
    "# канала с максимальным объемом продаж.\n",
    "\n",
    "stats = {'facebook': 55, 'yandex': 115, 'vk': 120, 'google': 99, 'email': 42, 'ok': 98}\n",
    "\n",
    "sorted_stats = sorted(stats.items(), key=lambda x: x[1], reverse=True)\n",
    "\n",
    "max_chanel, value = sorted_stats[0]  # Берем самый первый элемент в отсортированном списке по убыванию.\n",
    "print(f'Максимальный объем продаж на рекламном канале: {max_chanel}')\n",
    "\n",
    "\n"
   ]
  },
  {
   "cell_type": "code",
   "execution_count": null,
   "id": "62190e35",
   "metadata": {},
   "outputs": [],
   "source": [
    "\n",
    "# Дана книга рецептов с информацией о том, сколько ингредиентов нужно для приготовления блюда в расчете на одну порцию\n",
    "# (пример данных представлен ниже). Напишите программу, которая будет запрашивать у пользователя количество порций\n",
    "# для приготовления этих блюд и отображать информацию о суммарном количестве требуемых ингредиентов в указанном виде.\n",
    "\n",
    "cook_book = {\n",
    "    'салат': [\n",
    "        {'ingridient_name': 'сыр', 'quantity': 50, 'measure': 'гр'},\n",
    "        {'ingridient_name': 'томаты', 'quantity': 2, 'measure': 'шт'},\n",
    "        {'ingridient_name': 'огурцы', 'quantity': 20, 'measure': 'гр'},\n",
    "        {'ingridient_name': 'маслины', 'quantity': 10, 'measure': 'гр'},\n",
    "        {'ingridient_name': 'оливковое масло', 'quantity': 20, 'measure': 'мл'},\n",
    "        {'ingridient_name': 'салат', 'quantity': 10, 'measure': 'гр'},\n",
    "        {'ingridient_name': 'перец', 'quantity': 20, 'measure': 'гр'}\n",
    "    ],\n",
    "    'пицца': [\n",
    "        {'ingridient_name': 'сыр', 'quantity': 20, 'measure': 'гр'},\n",
    "        {'ingridient_name': 'колбаса', 'quantity': 30, 'measure': 'гр'},\n",
    "        {'ingridient_name': 'бекон', 'quantity': 30, 'measure': 'гр'},\n",
    "        {'ingridient_name': 'оливки', 'quantity': 10, 'measure': 'гр'},\n",
    "        {'ingridient_name': 'томаты', 'quantity': 20, 'measure': 'гр'},\n",
    "        {'ingridient_name': 'тесто', 'quantity': 100, 'measure': 'гр'},\n",
    "    ],\n",
    "    'лимонад': [\n",
    "        {'ingridient_name': 'лимон', 'quantity': 1, 'measure': 'шт'},\n",
    "        {'ingridient_name': 'вода', 'quantity': 200, 'measure': 'мл'},\n",
    "        {'ingridient_name': 'сахар', 'quantity': 10, 'measure': 'гр'},\n",
    "        {'ingridient_name': 'лайм', 'quantity': 20, 'measure': 'гр'},\n",
    "    ]\n",
    "}\n",
    "\n",
    "count_of_portion = int(input('Введите кол-во порций для рассчета ингридиентов '))\n",
    "\n",
    "final_list = {}\n",
    "for dish in cook_book:\n",
    "    # print(cook_book[dish]) - вышел на список ингридиентов;\n",
    "    for ingridient in cook_book[dish]:\n",
    "        new_ingridient_dict = dict(ingridient)  # вспомогательный словарик для того, чтобы не затереть исходные данные\n",
    "        new_ingridient_dict['quantity'] *= count_of_portion # умножаем объем продуктов на кол-во блюд.\n",
    "        # print(new_ingridient_dict) -отладка\n",
    "        if new_ingridient_dict['ingridient_name'] not in final_list:\n",
    "            final_list[new_ingridient_dict['ingridient_name']] = new_ingridient_dict  # В финал.словаре делаем товары ключами.\n",
    "        else:\n",
    "            final_list[new_ingridient_dict['ingridient_name']]['quantity'] += new_ingridient_dict['quantity']\n",
    "            # Если мы наткнулись на очередной ингридиет в основном списке, то увеличиваем в файнел листе кол-во\n",
    "            # на размер кол-ва из основного списка.\n",
    "# pprint(final_list) для отладки\n",
    "\n",
    "for info in final_list.values():\n",
    "    print(f\" {info['ingridient_name']}, {info['quantity']}, {info['measure']}\")"
   ]
  }
 ],
 "metadata": {
  "kernelspec": {
   "display_name": "Python 3",
   "language": "python",
   "name": "python3"
  },
  "language_info": {
   "codemirror_mode": {
    "name": "ipython",
    "version": 3
   },
   "file_extension": ".py",
   "mimetype": "text/x-python",
   "name": "python",
   "nbconvert_exporter": "python",
   "pygments_lexer": "ipython3",
   "version": "3.8.8"
  }
 },
 "nbformat": 4,
 "nbformat_minor": 5
}
